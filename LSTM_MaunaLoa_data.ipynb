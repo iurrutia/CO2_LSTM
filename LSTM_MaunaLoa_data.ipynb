{
  "nbformat": 4,
  "nbformat_minor": 0,
  "metadata": {
    "colab": {
      "name": "LSTM_MaunaLoa_data.ipynb",
      "provenance": [],
      "collapsed_sections": [],
      "include_colab_link": true
    },
    "kernelspec": {
      "name": "python3",
      "display_name": "Python 3"
    }
  },
  "cells": [
    {
      "cell_type": "markdown",
      "metadata": {
        "id": "view-in-github",
        "colab_type": "text"
      },
      "source": [
        "<a href=\"https://colab.research.google.com/github/iurrutia/CO2_LSTM/blob/master/LSTM_MaunaLoa_data.ipynb\" target=\"_parent\"><img src=\"https://colab.research.google.com/assets/colab-badge.svg\" alt=\"Open In Colab\"/></a>"
      ]
    },
    {
      "cell_type": "markdown",
      "metadata": {
        "id": "AVMyFL2Lhmi_",
        "colab_type": "text"
      },
      "source": [
        "# Fitting models for time series data\n",
        "\n",
        "First part is adapted from Scott's notebook: https://github.com/slpitz/RNNandGHGs/blob/master/RNN_MaunaLoa_data.ipynb\n",
        "\n",
        "Second part is keras LSTM for time series prediction, comparing to fitting regression.\n",
        "\n",
        "Third part is pytorch LSTM for time series prediction. \n",
        "\n",
        "# 1. Import monthly average CO2 concentration from Mauna Loa"
      ]
    },
    {
      "cell_type": "code",
      "metadata": {
        "id": "e42vSL6zJvZs",
        "colab_type": "code",
        "colab": {}
      },
      "source": [
        "import numpy as np\n",
        "import matplotlib.pyplot as plt\n",
        "import pandas as pd   "
      ],
      "execution_count": 3,
      "outputs": []
    },
    {
      "cell_type": "code",
      "metadata": {
        "id": "7qaPc2nxKr5Q",
        "colab_type": "code",
        "colab": {
          "base_uri": "https://localhost:8080/",
          "height": 204
        },
        "outputId": "45fc6773-ae5b-4b15-c00e-f786bfb9d228"
      },
      "source": [
        "\n",
        "\n",
        "myfile = 'ftp://aftp.cmdl.noaa.gov/data/trace_gases/co2/flask/surface/co2_mlo_surface-flask_1_ccgg_month.txt'\n",
        "myfile2019 = 'ftp://aftp.cmdl.noaa.gov/data/trace_gases/co2/in-situ/surface/mlo/co2_mlo_surface-insitu_1_ccgg_MonthlyData.txt'\n",
        "      \n",
        "# making data frame   \n",
        "#df = pd.read_csv(myfile,sep='\\t',skiprows=(0,1,2),header=(70))\n",
        "#df = pd.read_csv(myfile,sep='\\r',header=(69), delim_whitespace=True)\n",
        "#df = pd.read_csv(myfile2019, header= (150), delim_whitespace=True)\n",
        "df = pd.read_csv(myfile2019, header= (149), delim_whitespace=True)\n",
        "    \n",
        "df.head()  "
      ],
      "execution_count": 4,
      "outputs": [
        {
          "output_type": "execute_result",
          "data": {
            "text/html": [
              "<div>\n",
              "<style scoped>\n",
              "    .dataframe tbody tr th:only-of-type {\n",
              "        vertical-align: middle;\n",
              "    }\n",
              "\n",
              "    .dataframe tbody tr th {\n",
              "        vertical-align: top;\n",
              "    }\n",
              "\n",
              "    .dataframe thead th {\n",
              "        text-align: right;\n",
              "    }\n",
              "</style>\n",
              "<table border=\"1\" class=\"dataframe\">\n",
              "  <thead>\n",
              "    <tr style=\"text-align: right;\">\n",
              "      <th></th>\n",
              "      <th>site_code</th>\n",
              "      <th>year</th>\n",
              "      <th>month</th>\n",
              "      <th>day</th>\n",
              "      <th>hour</th>\n",
              "      <th>minute</th>\n",
              "      <th>second</th>\n",
              "      <th>time_decimal</th>\n",
              "      <th>value</th>\n",
              "      <th>value_std_dev</th>\n",
              "      <th>nvalue</th>\n",
              "      <th>latitude</th>\n",
              "      <th>longitude</th>\n",
              "      <th>altitude</th>\n",
              "      <th>elevation</th>\n",
              "      <th>intake_height</th>\n",
              "      <th>qcflag</th>\n",
              "    </tr>\n",
              "  </thead>\n",
              "  <tbody>\n",
              "    <tr>\n",
              "      <th>0</th>\n",
              "      <td>MLO</td>\n",
              "      <td>1973</td>\n",
              "      <td>1</td>\n",
              "      <td>1</td>\n",
              "      <td>0</td>\n",
              "      <td>0</td>\n",
              "      <td>0</td>\n",
              "      <td>1973.000000</td>\n",
              "      <td>-999.99</td>\n",
              "      <td>-99.99</td>\n",
              "      <td>0</td>\n",
              "      <td>19.536</td>\n",
              "      <td>-155.576</td>\n",
              "      <td>3437.0</td>\n",
              "      <td>3397.0</td>\n",
              "      <td>40.0</td>\n",
              "      <td>*..</td>\n",
              "    </tr>\n",
              "    <tr>\n",
              "      <th>1</th>\n",
              "      <td>MLO</td>\n",
              "      <td>1973</td>\n",
              "      <td>2</td>\n",
              "      <td>1</td>\n",
              "      <td>0</td>\n",
              "      <td>0</td>\n",
              "      <td>0</td>\n",
              "      <td>1973.084932</td>\n",
              "      <td>-999.99</td>\n",
              "      <td>-99.99</td>\n",
              "      <td>0</td>\n",
              "      <td>19.536</td>\n",
              "      <td>-155.576</td>\n",
              "      <td>3437.0</td>\n",
              "      <td>3397.0</td>\n",
              "      <td>40.0</td>\n",
              "      <td>*..</td>\n",
              "    </tr>\n",
              "    <tr>\n",
              "      <th>2</th>\n",
              "      <td>MLO</td>\n",
              "      <td>1973</td>\n",
              "      <td>3</td>\n",
              "      <td>1</td>\n",
              "      <td>0</td>\n",
              "      <td>0</td>\n",
              "      <td>0</td>\n",
              "      <td>1973.161644</td>\n",
              "      <td>-999.99</td>\n",
              "      <td>-99.99</td>\n",
              "      <td>0</td>\n",
              "      <td>19.536</td>\n",
              "      <td>-155.576</td>\n",
              "      <td>3437.0</td>\n",
              "      <td>3397.0</td>\n",
              "      <td>40.0</td>\n",
              "      <td>*..</td>\n",
              "    </tr>\n",
              "    <tr>\n",
              "      <th>3</th>\n",
              "      <td>MLO</td>\n",
              "      <td>1973</td>\n",
              "      <td>4</td>\n",
              "      <td>1</td>\n",
              "      <td>0</td>\n",
              "      <td>0</td>\n",
              "      <td>0</td>\n",
              "      <td>1973.246575</td>\n",
              "      <td>-999.99</td>\n",
              "      <td>-99.99</td>\n",
              "      <td>0</td>\n",
              "      <td>19.536</td>\n",
              "      <td>-155.576</td>\n",
              "      <td>3437.0</td>\n",
              "      <td>3397.0</td>\n",
              "      <td>40.0</td>\n",
              "      <td>*..</td>\n",
              "    </tr>\n",
              "    <tr>\n",
              "      <th>4</th>\n",
              "      <td>MLO</td>\n",
              "      <td>1973</td>\n",
              "      <td>5</td>\n",
              "      <td>1</td>\n",
              "      <td>0</td>\n",
              "      <td>0</td>\n",
              "      <td>0</td>\n",
              "      <td>1973.328767</td>\n",
              "      <td>-999.99</td>\n",
              "      <td>-99.99</td>\n",
              "      <td>0</td>\n",
              "      <td>19.536</td>\n",
              "      <td>-155.576</td>\n",
              "      <td>3437.0</td>\n",
              "      <td>3397.0</td>\n",
              "      <td>40.0</td>\n",
              "      <td>*..</td>\n",
              "    </tr>\n",
              "  </tbody>\n",
              "</table>\n",
              "</div>"
            ],
            "text/plain": [
              "  site_code  year  month  day  ...  altitude  elevation  intake_height  qcflag\n",
              "0       MLO  1973      1    1  ...    3437.0     3397.0           40.0     *..\n",
              "1       MLO  1973      2    1  ...    3437.0     3397.0           40.0     *..\n",
              "2       MLO  1973      3    1  ...    3437.0     3397.0           40.0     *..\n",
              "3       MLO  1973      4    1  ...    3437.0     3397.0           40.0     *..\n",
              "4       MLO  1973      5    1  ...    3437.0     3397.0           40.0     *..\n",
              "\n",
              "[5 rows x 17 columns]"
            ]
          },
          "metadata": {
            "tags": []
          },
          "execution_count": 4
        }
      ]
    },
    {
      "cell_type": "code",
      "metadata": {
        "id": "IkFp2oQfGWu0",
        "colab_type": "code",
        "colab": {
          "base_uri": "https://localhost:8080/",
          "height": 204
        },
        "outputId": "d51c7562-3d9b-4306-88cc-14a5d767843b"
      },
      "source": [
        "df.tail()"
      ],
      "execution_count": 5,
      "outputs": [
        {
          "output_type": "execute_result",
          "data": {
            "text/html": [
              "<div>\n",
              "<style scoped>\n",
              "    .dataframe tbody tr th:only-of-type {\n",
              "        vertical-align: middle;\n",
              "    }\n",
              "\n",
              "    .dataframe tbody tr th {\n",
              "        vertical-align: top;\n",
              "    }\n",
              "\n",
              "    .dataframe thead th {\n",
              "        text-align: right;\n",
              "    }\n",
              "</style>\n",
              "<table border=\"1\" class=\"dataframe\">\n",
              "  <thead>\n",
              "    <tr style=\"text-align: right;\">\n",
              "      <th></th>\n",
              "      <th>site_code</th>\n",
              "      <th>year</th>\n",
              "      <th>month</th>\n",
              "      <th>day</th>\n",
              "      <th>hour</th>\n",
              "      <th>minute</th>\n",
              "      <th>second</th>\n",
              "      <th>time_decimal</th>\n",
              "      <th>value</th>\n",
              "      <th>value_std_dev</th>\n",
              "      <th>nvalue</th>\n",
              "      <th>latitude</th>\n",
              "      <th>longitude</th>\n",
              "      <th>altitude</th>\n",
              "      <th>elevation</th>\n",
              "      <th>intake_height</th>\n",
              "      <th>qcflag</th>\n",
              "    </tr>\n",
              "  </thead>\n",
              "  <tbody>\n",
              "    <tr>\n",
              "      <th>559</th>\n",
              "      <td>MLO</td>\n",
              "      <td>2019</td>\n",
              "      <td>8</td>\n",
              "      <td>1</td>\n",
              "      <td>0</td>\n",
              "      <td>0</td>\n",
              "      <td>0</td>\n",
              "      <td>2019.580822</td>\n",
              "      <td>409.99</td>\n",
              "      <td>0.51</td>\n",
              "      <td>29</td>\n",
              "      <td>19.536</td>\n",
              "      <td>-155.576</td>\n",
              "      <td>3437.0</td>\n",
              "      <td>3397.0</td>\n",
              "      <td>40.0</td>\n",
              "      <td>...</td>\n",
              "    </tr>\n",
              "    <tr>\n",
              "      <th>560</th>\n",
              "      <td>MLO</td>\n",
              "      <td>2019</td>\n",
              "      <td>9</td>\n",
              "      <td>1</td>\n",
              "      <td>0</td>\n",
              "      <td>0</td>\n",
              "      <td>0</td>\n",
              "      <td>2019.665753</td>\n",
              "      <td>408.54</td>\n",
              "      <td>0.39</td>\n",
              "      <td>29</td>\n",
              "      <td>19.536</td>\n",
              "      <td>-155.576</td>\n",
              "      <td>3437.0</td>\n",
              "      <td>3397.0</td>\n",
              "      <td>40.0</td>\n",
              "      <td>...</td>\n",
              "    </tr>\n",
              "    <tr>\n",
              "      <th>561</th>\n",
              "      <td>MLO</td>\n",
              "      <td>2019</td>\n",
              "      <td>10</td>\n",
              "      <td>1</td>\n",
              "      <td>0</td>\n",
              "      <td>0</td>\n",
              "      <td>0</td>\n",
              "      <td>2019.747945</td>\n",
              "      <td>408.51</td>\n",
              "      <td>0.47</td>\n",
              "      <td>29</td>\n",
              "      <td>19.536</td>\n",
              "      <td>-155.576</td>\n",
              "      <td>3437.0</td>\n",
              "      <td>3397.0</td>\n",
              "      <td>40.0</td>\n",
              "      <td>...</td>\n",
              "    </tr>\n",
              "    <tr>\n",
              "      <th>562</th>\n",
              "      <td>MLO</td>\n",
              "      <td>2019</td>\n",
              "      <td>11</td>\n",
              "      <td>1</td>\n",
              "      <td>0</td>\n",
              "      <td>0</td>\n",
              "      <td>0</td>\n",
              "      <td>2019.832877</td>\n",
              "      <td>410.29</td>\n",
              "      <td>0.43</td>\n",
              "      <td>26</td>\n",
              "      <td>19.536</td>\n",
              "      <td>-155.576</td>\n",
              "      <td>3437.0</td>\n",
              "      <td>3397.0</td>\n",
              "      <td>40.0</td>\n",
              "      <td>...</td>\n",
              "    </tr>\n",
              "    <tr>\n",
              "      <th>563</th>\n",
              "      <td>MLO</td>\n",
              "      <td>2019</td>\n",
              "      <td>12</td>\n",
              "      <td>1</td>\n",
              "      <td>0</td>\n",
              "      <td>0</td>\n",
              "      <td>0</td>\n",
              "      <td>2019.915068</td>\n",
              "      <td>411.76</td>\n",
              "      <td>0.72</td>\n",
              "      <td>31</td>\n",
              "      <td>19.536</td>\n",
              "      <td>-155.576</td>\n",
              "      <td>3437.0</td>\n",
              "      <td>3397.0</td>\n",
              "      <td>40.0</td>\n",
              "      <td>...</td>\n",
              "    </tr>\n",
              "  </tbody>\n",
              "</table>\n",
              "</div>"
            ],
            "text/plain": [
              "    site_code  year  month  day  ...  altitude  elevation  intake_height  qcflag\n",
              "559       MLO  2019      8    1  ...    3437.0     3397.0           40.0     ...\n",
              "560       MLO  2019      9    1  ...    3437.0     3397.0           40.0     ...\n",
              "561       MLO  2019     10    1  ...    3437.0     3397.0           40.0     ...\n",
              "562       MLO  2019     11    1  ...    3437.0     3397.0           40.0     ...\n",
              "563       MLO  2019     12    1  ...    3437.0     3397.0           40.0     ...\n",
              "\n",
              "[5 rows x 17 columns]"
            ]
          },
          "metadata": {
            "tags": []
          },
          "execution_count": 5
        }
      ]
    },
    {
      "cell_type": "code",
      "metadata": {
        "id": "Yq4JW0_Lx5ks",
        "colab_type": "code",
        "colab": {
          "base_uri": "https://localhost:8080/",
          "height": 85
        },
        "outputId": "f4300076-a51c-4ee1-e71f-bf8c2d839759"
      },
      "source": [
        "df.columns"
      ],
      "execution_count": 6,
      "outputs": [
        {
          "output_type": "execute_result",
          "data": {
            "text/plain": [
              "Index(['site_code', 'year', 'month', 'day', 'hour', 'minute', 'second',\n",
              "       'time_decimal', 'value', 'value_std_dev', 'nvalue', 'latitude',\n",
              "       'longitude', 'altitude', 'elevation', 'intake_height', 'qcflag'],\n",
              "      dtype='object')"
            ]
          },
          "metadata": {
            "tags": []
          },
          "execution_count": 6
        }
      ]
    },
    {
      "cell_type": "code",
      "metadata": {
        "id": "u5AhfVFoqmsJ",
        "colab_type": "code",
        "colab": {
          "base_uri": "https://localhost:8080/",
          "height": 297
        },
        "outputId": "eb7eaeaf-4ca3-4daa-bd4a-9d6e51b9b0f2"
      },
      "source": [
        "df.plot(x=\"time_decimal\", y='value')"
      ],
      "execution_count": 7,
      "outputs": [
        {
          "output_type": "execute_result",
          "data": {
            "text/plain": [
              "<matplotlib.axes._subplots.AxesSubplot at 0x7f6807c4e940>"
            ]
          },
          "metadata": {
            "tags": []
          },
          "execution_count": 7
        },
        {
          "output_type": "display_data",
          "data": {
            "image/png": "[encoded data removed]",
            "text/plain": [
              "<Figure size 432x288 with 1 Axes>"
            ]
          },
          "metadata": {
            "tags": [],
            "needs_background": "light"
          }
        }
      ]
    },
    {
      "cell_type": "code",
      "metadata": {
        "id": "Z_BfUEpenrkj",
        "colab_type": "code",
        "colab": {
          "base_uri": "https://localhost:8080/",
          "height": 204
        },
        "outputId": "451492cb-29be-4c78-e2e2-36c92245981c"
      },
      "source": [
        "df1974 = df[df.value > 0] #remove values of -999\n",
        "df1974.head()\n"
      ],
      "execution_count": 34,
      "outputs": [
        {
          "output_type": "execute_result",
          "data": {
            "text/html": [
              "<div>\n",
              "<style scoped>\n",
              "    .dataframe tbody tr th:only-of-type {\n",
              "        vertical-align: middle;\n",
              "    }\n",
              "\n",
              "    .dataframe tbody tr th {\n",
              "        vertical-align: top;\n",
              "    }\n",
              "\n",
              "    .dataframe thead th {\n",
              "        text-align: right;\n",
              "    }\n",
              "</style>\n",
              "<table border=\"1\" class=\"dataframe\">\n",
              "  <thead>\n",
              "    <tr style=\"text-align: right;\">\n",
              "      <th></th>\n",
              "      <th>site_code</th>\n",
              "      <th>year</th>\n",
              "      <th>month</th>\n",
              "      <th>day</th>\n",
              "      <th>hour</th>\n",
              "      <th>minute</th>\n",
              "      <th>second</th>\n",
              "      <th>time_decimal</th>\n",
              "      <th>value</th>\n",
              "      <th>value_std_dev</th>\n",
              "      <th>nvalue</th>\n",
              "      <th>latitude</th>\n",
              "      <th>longitude</th>\n",
              "      <th>altitude</th>\n",
              "      <th>elevation</th>\n",
              "      <th>intake_height</th>\n",
              "      <th>qcflag</th>\n",
              "    </tr>\n",
              "  </thead>\n",
              "  <tbody>\n",
              "    <tr>\n",
              "      <th>16</th>\n",
              "      <td>MLO</td>\n",
              "      <td>1974</td>\n",
              "      <td>5</td>\n",
              "      <td>1</td>\n",
              "      <td>0</td>\n",
              "      <td>0</td>\n",
              "      <td>0</td>\n",
              "      <td>1974.328767</td>\n",
              "      <td>333.16</td>\n",
              "      <td>0.34</td>\n",
              "      <td>14</td>\n",
              "      <td>19.536</td>\n",
              "      <td>-155.576</td>\n",
              "      <td>3437.0</td>\n",
              "      <td>3397.0</td>\n",
              "      <td>40.0</td>\n",
              "      <td>...</td>\n",
              "    </tr>\n",
              "    <tr>\n",
              "      <th>17</th>\n",
              "      <td>MLO</td>\n",
              "      <td>1974</td>\n",
              "      <td>6</td>\n",
              "      <td>1</td>\n",
              "      <td>0</td>\n",
              "      <td>0</td>\n",
              "      <td>0</td>\n",
              "      <td>1974.413699</td>\n",
              "      <td>332.11</td>\n",
              "      <td>0.46</td>\n",
              "      <td>26</td>\n",
              "      <td>19.536</td>\n",
              "      <td>-155.576</td>\n",
              "      <td>3437.0</td>\n",
              "      <td>3397.0</td>\n",
              "      <td>40.0</td>\n",
              "      <td>...</td>\n",
              "    </tr>\n",
              "    <tr>\n",
              "      <th>18</th>\n",
              "      <td>MLO</td>\n",
              "      <td>1974</td>\n",
              "      <td>7</td>\n",
              "      <td>1</td>\n",
              "      <td>0</td>\n",
              "      <td>0</td>\n",
              "      <td>0</td>\n",
              "      <td>1974.495890</td>\n",
              "      <td>331.11</td>\n",
              "      <td>0.49</td>\n",
              "      <td>24</td>\n",
              "      <td>19.536</td>\n",
              "      <td>-155.576</td>\n",
              "      <td>3437.0</td>\n",
              "      <td>3397.0</td>\n",
              "      <td>40.0</td>\n",
              "      <td>...</td>\n",
              "    </tr>\n",
              "    <tr>\n",
              "      <th>19</th>\n",
              "      <td>MLO</td>\n",
              "      <td>1974</td>\n",
              "      <td>8</td>\n",
              "      <td>1</td>\n",
              "      <td>0</td>\n",
              "      <td>0</td>\n",
              "      <td>0</td>\n",
              "      <td>1974.580822</td>\n",
              "      <td>329.09</td>\n",
              "      <td>0.64</td>\n",
              "      <td>27</td>\n",
              "      <td>19.536</td>\n",
              "      <td>-155.576</td>\n",
              "      <td>3437.0</td>\n",
              "      <td>3397.0</td>\n",
              "      <td>40.0</td>\n",
              "      <td>...</td>\n",
              "    </tr>\n",
              "    <tr>\n",
              "      <th>20</th>\n",
              "      <td>MLO</td>\n",
              "      <td>1974</td>\n",
              "      <td>9</td>\n",
              "      <td>1</td>\n",
              "      <td>0</td>\n",
              "      <td>0</td>\n",
              "      <td>0</td>\n",
              "      <td>1974.665753</td>\n",
              "      <td>327.27</td>\n",
              "      <td>0.63</td>\n",
              "      <td>24</td>\n",
              "      <td>19.536</td>\n",
              "      <td>-155.576</td>\n",
              "      <td>3437.0</td>\n",
              "      <td>3397.0</td>\n",
              "      <td>40.0</td>\n",
              "      <td>...</td>\n",
              "    </tr>\n",
              "  </tbody>\n",
              "</table>\n",
              "</div>"
            ],
            "text/plain": [
              "   site_code  year  month  day  ...  altitude  elevation  intake_height  qcflag\n",
              "16       MLO  1974      5    1  ...    3437.0     3397.0           40.0     ...\n",
              "17       MLO  1974      6    1  ...    3437.0     3397.0           40.0     ...\n",
              "18       MLO  1974      7    1  ...    3437.0     3397.0           40.0     ...\n",
              "19       MLO  1974      8    1  ...    3437.0     3397.0           40.0     ...\n",
              "20       MLO  1974      9    1  ...    3437.0     3397.0           40.0     ...\n",
              "\n",
              "[5 rows x 17 columns]"
            ]
          },
          "metadata": {
            "tags": []
          },
          "execution_count": 34
        }
      ]
    },
    {
      "cell_type": "code",
      "metadata": {
        "id": "kYvA7-MpoGmc",
        "colab_type": "code",
        "colab": {
          "base_uri": "https://localhost:8080/",
          "height": 297
        },
        "outputId": "67f4b8c0-7dca-422b-d9ce-66eb26550848"
      },
      "source": [
        "df1974.plot(x=\"time_decimal\", y='value')"
      ],
      "execution_count": 9,
      "outputs": [
        {
          "output_type": "execute_result",
          "data": {
            "text/plain": [
              "<matplotlib.axes._subplots.AxesSubplot at 0x7f6807b2bef0>"
            ]
          },
          "metadata": {
            "tags": []
          },
          "execution_count": 9
        },
        {
          "output_type": "display_data",
          "data": {
            "image/png": "[encoded data removed]",
            "text/plain": [
              "<Figure size 432x288 with 1 Axes>"
            ]
          },
          "metadata": {
            "tags": [],
            "needs_background": "light"
          }
        }
      ]
    },
    {
      "cell_type": "code",
      "metadata": {
        "id": "WrSY4dCjodLs",
        "colab_type": "code",
        "colab": {
          "base_uri": "https://localhost:8080/",
          "height": 669
        },
        "outputId": "6124cd36-9260-4800-883c-23118c0a0d0d"
      },
      "source": [
        "#df1974 is missing data from December of 1975\n",
        "df1976 = df[df.year > 1975] #remove values of before 1976\n",
        "df1976.head(20)"
      ],
      "execution_count": 10,
      "outputs": [
        {
          "output_type": "execute_result",
          "data": {
            "text/html": [
              "<div>\n",
              "<style scoped>\n",
              "    .dataframe tbody tr th:only-of-type {\n",
              "        vertical-align: middle;\n",
              "    }\n",
              "\n",
              "    .dataframe tbody tr th {\n",
              "        vertical-align: top;\n",
              "    }\n",
              "\n",
              "    .dataframe thead th {\n",
              "        text-align: right;\n",
              "    }\n",
              "</style>\n",
              "<table border=\"1\" class=\"dataframe\">\n",
              "  <thead>\n",
              "    <tr style=\"text-align: right;\">\n",
              "      <th></th>\n",
              "      <th>site_code</th>\n",
              "      <th>year</th>\n",
              "      <th>month</th>\n",
              "      <th>day</th>\n",
              "      <th>hour</th>\n",
              "      <th>minute</th>\n",
              "      <th>second</th>\n",
              "      <th>time_decimal</th>\n",
              "      <th>value</th>\n",
              "      <th>value_std_dev</th>\n",
              "      <th>nvalue</th>\n",
              "      <th>latitude</th>\n",
              "      <th>longitude</th>\n",
              "      <th>altitude</th>\n",
              "      <th>elevation</th>\n",
              "      <th>intake_height</th>\n",
              "      <th>qcflag</th>\n",
              "    </tr>\n",
              "  </thead>\n",
              "  <tbody>\n",
              "    <tr>\n",
              "      <th>36</th>\n",
              "      <td>MLO</td>\n",
              "      <td>1976</td>\n",
              "      <td>1</td>\n",
              "      <td>1</td>\n",
              "      <td>0</td>\n",
              "      <td>0</td>\n",
              "      <td>0</td>\n",
              "      <td>1976.000000</td>\n",
              "      <td>331.65</td>\n",
              "      <td>0.29</td>\n",
              "      <td>20</td>\n",
              "      <td>19.536</td>\n",
              "      <td>-155.576</td>\n",
              "      <td>3437.0</td>\n",
              "      <td>3397.0</td>\n",
              "      <td>40.0</td>\n",
              "      <td>...</td>\n",
              "    </tr>\n",
              "    <tr>\n",
              "      <th>37</th>\n",
              "      <td>MLO</td>\n",
              "      <td>1976</td>\n",
              "      <td>2</td>\n",
              "      <td>1</td>\n",
              "      <td>0</td>\n",
              "      <td>0</td>\n",
              "      <td>0</td>\n",
              "      <td>1976.084699</td>\n",
              "      <td>332.76</td>\n",
              "      <td>0.55</td>\n",
              "      <td>22</td>\n",
              "      <td>19.536</td>\n",
              "      <td>-155.576</td>\n",
              "      <td>3437.0</td>\n",
              "      <td>3397.0</td>\n",
              "      <td>40.0</td>\n",
              "      <td>...</td>\n",
              "    </tr>\n",
              "    <tr>\n",
              "      <th>38</th>\n",
              "      <td>MLO</td>\n",
              "      <td>1976</td>\n",
              "      <td>3</td>\n",
              "      <td>1</td>\n",
              "      <td>0</td>\n",
              "      <td>0</td>\n",
              "      <td>0</td>\n",
              "      <td>1976.163934</td>\n",
              "      <td>333.54</td>\n",
              "      <td>0.84</td>\n",
              "      <td>20</td>\n",
              "      <td>19.536</td>\n",
              "      <td>-155.576</td>\n",
              "      <td>3437.0</td>\n",
              "      <td>3397.0</td>\n",
              "      <td>40.0</td>\n",
              "      <td>...</td>\n",
              "    </tr>\n",
              "    <tr>\n",
              "      <th>39</th>\n",
              "      <td>MLO</td>\n",
              "      <td>1976</td>\n",
              "      <td>4</td>\n",
              "      <td>1</td>\n",
              "      <td>0</td>\n",
              "      <td>0</td>\n",
              "      <td>0</td>\n",
              "      <td>1976.248634</td>\n",
              "      <td>334.66</td>\n",
              "      <td>0.72</td>\n",
              "      <td>19</td>\n",
              "      <td>19.536</td>\n",
              "      <td>-155.576</td>\n",
              "      <td>3437.0</td>\n",
              "      <td>3397.0</td>\n",
              "      <td>40.0</td>\n",
              "      <td>...</td>\n",
              "    </tr>\n",
              "    <tr>\n",
              "      <th>40</th>\n",
              "      <td>MLO</td>\n",
              "      <td>1976</td>\n",
              "      <td>5</td>\n",
              "      <td>1</td>\n",
              "      <td>0</td>\n",
              "      <td>0</td>\n",
              "      <td>0</td>\n",
              "      <td>1976.330601</td>\n",
              "      <td>334.77</td>\n",
              "      <td>0.61</td>\n",
              "      <td>22</td>\n",
              "      <td>19.536</td>\n",
              "      <td>-155.576</td>\n",
              "      <td>3437.0</td>\n",
              "      <td>3397.0</td>\n",
              "      <td>40.0</td>\n",
              "      <td>...</td>\n",
              "    </tr>\n",
              "    <tr>\n",
              "      <th>41</th>\n",
              "      <td>MLO</td>\n",
              "      <td>1976</td>\n",
              "      <td>6</td>\n",
              "      <td>1</td>\n",
              "      <td>0</td>\n",
              "      <td>0</td>\n",
              "      <td>0</td>\n",
              "      <td>1976.415301</td>\n",
              "      <td>334.21</td>\n",
              "      <td>0.22</td>\n",
              "      <td>17</td>\n",
              "      <td>19.536</td>\n",
              "      <td>-155.576</td>\n",
              "      <td>3437.0</td>\n",
              "      <td>3397.0</td>\n",
              "      <td>40.0</td>\n",
              "      <td>...</td>\n",
              "    </tr>\n",
              "    <tr>\n",
              "      <th>42</th>\n",
              "      <td>MLO</td>\n",
              "      <td>1976</td>\n",
              "      <td>7</td>\n",
              "      <td>1</td>\n",
              "      <td>0</td>\n",
              "      <td>0</td>\n",
              "      <td>0</td>\n",
              "      <td>1976.497268</td>\n",
              "      <td>332.85</td>\n",
              "      <td>0.68</td>\n",
              "      <td>16</td>\n",
              "      <td>19.536</td>\n",
              "      <td>-155.576</td>\n",
              "      <td>3437.0</td>\n",
              "      <td>3397.0</td>\n",
              "      <td>40.0</td>\n",
              "      <td>...</td>\n",
              "    </tr>\n",
              "    <tr>\n",
              "      <th>43</th>\n",
              "      <td>MLO</td>\n",
              "      <td>1976</td>\n",
              "      <td>8</td>\n",
              "      <td>1</td>\n",
              "      <td>0</td>\n",
              "      <td>0</td>\n",
              "      <td>0</td>\n",
              "      <td>1976.581967</td>\n",
              "      <td>330.72</td>\n",
              "      <td>0.75</td>\n",
              "      <td>23</td>\n",
              "      <td>19.536</td>\n",
              "      <td>-155.576</td>\n",
              "      <td>3437.0</td>\n",
              "      <td>3397.0</td>\n",
              "      <td>40.0</td>\n",
              "      <td>...</td>\n",
              "    </tr>\n",
              "    <tr>\n",
              "      <th>44</th>\n",
              "      <td>MLO</td>\n",
              "      <td>1976</td>\n",
              "      <td>9</td>\n",
              "      <td>1</td>\n",
              "      <td>0</td>\n",
              "      <td>0</td>\n",
              "      <td>0</td>\n",
              "      <td>1976.666667</td>\n",
              "      <td>328.88</td>\n",
              "      <td>0.99</td>\n",
              "      <td>13</td>\n",
              "      <td>19.536</td>\n",
              "      <td>-155.576</td>\n",
              "      <td>3437.0</td>\n",
              "      <td>3397.0</td>\n",
              "      <td>40.0</td>\n",
              "      <td>...</td>\n",
              "    </tr>\n",
              "    <tr>\n",
              "      <th>45</th>\n",
              "      <td>MLO</td>\n",
              "      <td>1976</td>\n",
              "      <td>10</td>\n",
              "      <td>1</td>\n",
              "      <td>0</td>\n",
              "      <td>0</td>\n",
              "      <td>0</td>\n",
              "      <td>1976.748634</td>\n",
              "      <td>328.71</td>\n",
              "      <td>0.56</td>\n",
              "      <td>20</td>\n",
              "      <td>19.536</td>\n",
              "      <td>-155.576</td>\n",
              "      <td>3437.0</td>\n",
              "      <td>3397.0</td>\n",
              "      <td>40.0</td>\n",
              "      <td>...</td>\n",
              "    </tr>\n",
              "    <tr>\n",
              "      <th>46</th>\n",
              "      <td>MLO</td>\n",
              "      <td>1976</td>\n",
              "      <td>11</td>\n",
              "      <td>1</td>\n",
              "      <td>0</td>\n",
              "      <td>0</td>\n",
              "      <td>0</td>\n",
              "      <td>1976.833333</td>\n",
              "      <td>330.23</td>\n",
              "      <td>0.52</td>\n",
              "      <td>25</td>\n",
              "      <td>19.536</td>\n",
              "      <td>-155.576</td>\n",
              "      <td>3437.0</td>\n",
              "      <td>3397.0</td>\n",
              "      <td>40.0</td>\n",
              "      <td>...</td>\n",
              "    </tr>\n",
              "    <tr>\n",
              "      <th>47</th>\n",
              "      <td>MLO</td>\n",
              "      <td>1976</td>\n",
              "      <td>12</td>\n",
              "      <td>1</td>\n",
              "      <td>0</td>\n",
              "      <td>0</td>\n",
              "      <td>0</td>\n",
              "      <td>1976.915301</td>\n",
              "      <td>331.68</td>\n",
              "      <td>0.69</td>\n",
              "      <td>20</td>\n",
              "      <td>19.536</td>\n",
              "      <td>-155.576</td>\n",
              "      <td>3437.0</td>\n",
              "      <td>3397.0</td>\n",
              "      <td>40.0</td>\n",
              "      <td>...</td>\n",
              "    </tr>\n",
              "    <tr>\n",
              "      <th>48</th>\n",
              "      <td>MLO</td>\n",
              "      <td>1977</td>\n",
              "      <td>1</td>\n",
              "      <td>1</td>\n",
              "      <td>0</td>\n",
              "      <td>0</td>\n",
              "      <td>0</td>\n",
              "      <td>1977.000000</td>\n",
              "      <td>332.66</td>\n",
              "      <td>0.46</td>\n",
              "      <td>24</td>\n",
              "      <td>19.536</td>\n",
              "      <td>-155.576</td>\n",
              "      <td>3437.0</td>\n",
              "      <td>3397.0</td>\n",
              "      <td>40.0</td>\n",
              "      <td>...</td>\n",
              "    </tr>\n",
              "    <tr>\n",
              "      <th>49</th>\n",
              "      <td>MLO</td>\n",
              "      <td>1977</td>\n",
              "      <td>2</td>\n",
              "      <td>1</td>\n",
              "      <td>0</td>\n",
              "      <td>0</td>\n",
              "      <td>0</td>\n",
              "      <td>1977.084932</td>\n",
              "      <td>333.18</td>\n",
              "      <td>0.28</td>\n",
              "      <td>19</td>\n",
              "      <td>19.536</td>\n",
              "      <td>-155.576</td>\n",
              "      <td>3437.0</td>\n",
              "      <td>3397.0</td>\n",
              "      <td>40.0</td>\n",
              "      <td>...</td>\n",
              "    </tr>\n",
              "    <tr>\n",
              "      <th>50</th>\n",
              "      <td>MLO</td>\n",
              "      <td>1977</td>\n",
              "      <td>3</td>\n",
              "      <td>1</td>\n",
              "      <td>0</td>\n",
              "      <td>0</td>\n",
              "      <td>0</td>\n",
              "      <td>1977.161644</td>\n",
              "      <td>334.97</td>\n",
              "      <td>0.56</td>\n",
              "      <td>23</td>\n",
              "      <td>19.536</td>\n",
              "      <td>-155.576</td>\n",
              "      <td>3437.0</td>\n",
              "      <td>3397.0</td>\n",
              "      <td>40.0</td>\n",
              "      <td>...</td>\n",
              "    </tr>\n",
              "    <tr>\n",
              "      <th>51</th>\n",
              "      <td>MLO</td>\n",
              "      <td>1977</td>\n",
              "      <td>4</td>\n",
              "      <td>1</td>\n",
              "      <td>0</td>\n",
              "      <td>0</td>\n",
              "      <td>0</td>\n",
              "      <td>1977.246575</td>\n",
              "      <td>336.19</td>\n",
              "      <td>0.58</td>\n",
              "      <td>21</td>\n",
              "      <td>19.536</td>\n",
              "      <td>-155.576</td>\n",
              "      <td>3437.0</td>\n",
              "      <td>3397.0</td>\n",
              "      <td>40.0</td>\n",
              "      <td>...</td>\n",
              "    </tr>\n",
              "    <tr>\n",
              "      <th>52</th>\n",
              "      <td>MLO</td>\n",
              "      <td>1977</td>\n",
              "      <td>5</td>\n",
              "      <td>1</td>\n",
              "      <td>0</td>\n",
              "      <td>0</td>\n",
              "      <td>0</td>\n",
              "      <td>1977.328767</td>\n",
              "      <td>336.92</td>\n",
              "      <td>0.32</td>\n",
              "      <td>20</td>\n",
              "      <td>19.536</td>\n",
              "      <td>-155.576</td>\n",
              "      <td>3437.0</td>\n",
              "      <td>3397.0</td>\n",
              "      <td>40.0</td>\n",
              "      <td>...</td>\n",
              "    </tr>\n",
              "    <tr>\n",
              "      <th>53</th>\n",
              "      <td>MLO</td>\n",
              "      <td>1977</td>\n",
              "      <td>6</td>\n",
              "      <td>1</td>\n",
              "      <td>0</td>\n",
              "      <td>0</td>\n",
              "      <td>0</td>\n",
              "      <td>1977.413699</td>\n",
              "      <td>336.14</td>\n",
              "      <td>0.40</td>\n",
              "      <td>22</td>\n",
              "      <td>19.536</td>\n",
              "      <td>-155.576</td>\n",
              "      <td>3437.0</td>\n",
              "      <td>3397.0</td>\n",
              "      <td>40.0</td>\n",
              "      <td>...</td>\n",
              "    </tr>\n",
              "    <tr>\n",
              "      <th>54</th>\n",
              "      <td>MLO</td>\n",
              "      <td>1977</td>\n",
              "      <td>7</td>\n",
              "      <td>1</td>\n",
              "      <td>0</td>\n",
              "      <td>0</td>\n",
              "      <td>0</td>\n",
              "      <td>1977.495890</td>\n",
              "      <td>334.77</td>\n",
              "      <td>0.66</td>\n",
              "      <td>21</td>\n",
              "      <td>19.536</td>\n",
              "      <td>-155.576</td>\n",
              "      <td>3437.0</td>\n",
              "      <td>3397.0</td>\n",
              "      <td>40.0</td>\n",
              "      <td>...</td>\n",
              "    </tr>\n",
              "    <tr>\n",
              "      <th>55</th>\n",
              "      <td>MLO</td>\n",
              "      <td>1977</td>\n",
              "      <td>8</td>\n",
              "      <td>1</td>\n",
              "      <td>0</td>\n",
              "      <td>0</td>\n",
              "      <td>0</td>\n",
              "      <td>1977.580822</td>\n",
              "      <td>332.62</td>\n",
              "      <td>0.57</td>\n",
              "      <td>18</td>\n",
              "      <td>19.536</td>\n",
              "      <td>-155.576</td>\n",
              "      <td>3437.0</td>\n",
              "      <td>3397.0</td>\n",
              "      <td>40.0</td>\n",
              "      <td>...</td>\n",
              "    </tr>\n",
              "  </tbody>\n",
              "</table>\n",
              "</div>"
            ],
            "text/plain": [
              "   site_code  year  month  day  ...  altitude  elevation  intake_height  qcflag\n",
              "36       MLO  1976      1    1  ...    3437.0     3397.0           40.0     ...\n",
              "37       MLO  1976      2    1  ...    3437.0     3397.0           40.0     ...\n",
              "38       MLO  1976      3    1  ...    3437.0     3397.0           40.0     ...\n",
              "39       MLO  1976      4    1  ...    3437.0     3397.0           40.0     ...\n",
              "40       MLO  1976      5    1  ...    3437.0     3397.0           40.0     ...\n",
              "41       MLO  1976      6    1  ...    3437.0     3397.0           40.0     ...\n",
              "42       MLO  1976      7    1  ...    3437.0     3397.0           40.0     ...\n",
              "43       MLO  1976      8    1  ...    3437.0     3397.0           40.0     ...\n",
              "44       MLO  1976      9    1  ...    3437.0     3397.0           40.0     ...\n",
              "45       MLO  1976     10    1  ...    3437.0     3397.0           40.0     ...\n",
              "46       MLO  1976     11    1  ...    3437.0     3397.0           40.0     ...\n",
              "47       MLO  1976     12    1  ...    3437.0     3397.0           40.0     ...\n",
              "48       MLO  1977      1    1  ...    3437.0     3397.0           40.0     ...\n",
              "49       MLO  1977      2    1  ...    3437.0     3397.0           40.0     ...\n",
              "50       MLO  1977      3    1  ...    3437.0     3397.0           40.0     ...\n",
              "51       MLO  1977      4    1  ...    3437.0     3397.0           40.0     ...\n",
              "52       MLO  1977      5    1  ...    3437.0     3397.0           40.0     ...\n",
              "53       MLO  1977      6    1  ...    3437.0     3397.0           40.0     ...\n",
              "54       MLO  1977      7    1  ...    3437.0     3397.0           40.0     ...\n",
              "55       MLO  1977      8    1  ...    3437.0     3397.0           40.0     ...\n",
              "\n",
              "[20 rows x 17 columns]"
            ]
          },
          "metadata": {
            "tags": []
          },
          "execution_count": 10
        }
      ]
    },
    {
      "cell_type": "code",
      "metadata": {
        "id": "8nRA1JJEpAu1",
        "colab_type": "code",
        "colab": {
          "base_uri": "https://localhost:8080/",
          "height": 297
        },
        "outputId": "771d69d6-5cbc-4e19-ab43-d32502146f8e"
      },
      "source": [
        "df1976.plot(x=\"time_decimal\", y='value')"
      ],
      "execution_count": 11,
      "outputs": [
        {
          "output_type": "execute_result",
          "data": {
            "text/plain": [
              "<matplotlib.axes._subplots.AxesSubplot at 0x7f68076627b8>"
            ]
          },
          "metadata": {
            "tags": []
          },
          "execution_count": 11
        },
        {
          "output_type": "display_data",
          "data": {
            "image/png": "[encoded data removed]",
            "text/plain": [
              "<Figure size 432x288 with 1 Axes>"
            ]
          },
          "metadata": {
            "tags": [],
            "needs_background": "light"
          }
        }
      ]
    },
    {
      "cell_type": "code",
      "metadata": {
        "id": "XKN1Vu8RfCON",
        "colab_type": "code",
        "colab": {
          "base_uri": "https://localhost:8080/",
          "height": 34
        },
        "outputId": "0c38c5d8-88de-41ef-e26c-65f806abfb0a"
      },
      "source": [
        "seriesLength = len(df1976)-12 #length minus the last year\n",
        "len(df1976)"
      ],
      "execution_count": 12,
      "outputs": [
        {
          "output_type": "execute_result",
          "data": {
            "text/plain": [
              "528"
            ]
          },
          "metadata": {
            "tags": []
          },
          "execution_count": 12
        }
      ]
    },
    {
      "cell_type": "markdown",
      "metadata": {
        "id": "BzMo3s_PCTJG",
        "colab_type": "text"
      },
      "source": [
        "# 2. LSTM - keras\n",
        "\n",
        "Following this example: \n",
        "\n",
        "https://machinelearningmastery.com/time-series-prediction-lstm-recurrent-neural-networks-python-keras/"
      ]
    },
    {
      "cell_type": "code",
      "metadata": {
        "id": "PCkUAfGau69Z",
        "colab_type": "code",
        "colab": {
          "base_uri": "https://localhost:8080/",
          "height": 34
        },
        "outputId": "d1de00e5-aca4-4978-cb7b-d0c45482ca5e"
      },
      "source": [
        "import numpy\n",
        "import matplotlib.pyplot as plt\n",
        "import pandas\n",
        "import math\n",
        "from keras.models import Sequential\n",
        "from keras.layers import Dense\n",
        "from keras.layers import LSTM\n",
        "from sklearn.preprocessing import MinMaxScaler\n",
        "from sklearn.metrics import mean_squared_error"
      ],
      "execution_count": 13,
      "outputs": [
        {
          "output_type": "stream",
          "text": [
            "Using TensorFlow backend.\n"
          ],
          "name": "stderr"
        }
      ]
    },
    {
      "cell_type": "code",
      "metadata": {
        "id": "M8zD-hx9C2V-",
        "colab_type": "code",
        "colab": {}
      },
      "source": [
        "# fix random seed for reproducibility\n",
        "numpy.random.seed(7)"
      ],
      "execution_count": 14,
      "outputs": []
    },
    {
      "cell_type": "code",
      "metadata": {
        "id": "mx0SFBBFDw55",
        "colab_type": "code",
        "colab": {
          "base_uri": "https://localhost:8080/",
          "height": 85
        },
        "outputId": "b5b05ba2-1b28-4b03-dd3c-0f7eb9775242"
      },
      "source": [
        "df1976.columns"
      ],
      "execution_count": 15,
      "outputs": [
        {
          "output_type": "execute_result",
          "data": {
            "text/plain": [
              "Index(['site_code', 'year', 'month', 'day', 'hour', 'minute', 'second',\n",
              "       'time_decimal', 'value', 'value_std_dev', 'nvalue', 'latitude',\n",
              "       'longitude', 'altitude', 'elevation', 'intake_height', 'qcflag'],\n",
              "      dtype='object')"
            ]
          },
          "metadata": {
            "tags": []
          },
          "execution_count": 15
        }
      ]
    },
    {
      "cell_type": "code",
      "metadata": {
        "id": "bv5NrjlxD2yw",
        "colab_type": "code",
        "colab": {
          "base_uri": "https://localhost:8080/",
          "height": 204
        },
        "outputId": "e1d5c51c-51ef-44b2-bf11-b84200b86a2a"
      },
      "source": [
        "# Select the necessary columns\n",
        "dataset = df1976[[\"time_decimal\", \"value\"]]\n",
        "dataset.head()"
      ],
      "execution_count": 16,
      "outputs": [
        {
          "output_type": "execute_result",
          "data": {
            "text/html": [
              "<div>\n",
              "<style scoped>\n",
              "    .dataframe tbody tr th:only-of-type {\n",
              "        vertical-align: middle;\n",
              "    }\n",
              "\n",
              "    .dataframe tbody tr th {\n",
              "        vertical-align: top;\n",
              "    }\n",
              "\n",
              "    .dataframe thead th {\n",
              "        text-align: right;\n",
              "    }\n",
              "</style>\n",
              "<table border=\"1\" class=\"dataframe\">\n",
              "  <thead>\n",
              "    <tr style=\"text-align: right;\">\n",
              "      <th></th>\n",
              "      <th>time_decimal</th>\n",
              "      <th>value</th>\n",
              "    </tr>\n",
              "  </thead>\n",
              "  <tbody>\n",
              "    <tr>\n",
              "      <th>36</th>\n",
              "      <td>1976.000000</td>\n",
              "      <td>331.65</td>\n",
              "    </tr>\n",
              "    <tr>\n",
              "      <th>37</th>\n",
              "      <td>1976.084699</td>\n",
              "      <td>332.76</td>\n",
              "    </tr>\n",
              "    <tr>\n",
              "      <th>38</th>\n",
              "      <td>1976.163934</td>\n",
              "      <td>333.54</td>\n",
              "    </tr>\n",
              "    <tr>\n",
              "      <th>39</th>\n",
              "      <td>1976.248634</td>\n",
              "      <td>334.66</td>\n",
              "    </tr>\n",
              "    <tr>\n",
              "      <th>40</th>\n",
              "      <td>1976.330601</td>\n",
              "      <td>334.77</td>\n",
              "    </tr>\n",
              "  </tbody>\n",
              "</table>\n",
              "</div>"
            ],
            "text/plain": [
              "    time_decimal   value\n",
              "36   1976.000000  331.65\n",
              "37   1976.084699  332.76\n",
              "38   1976.163934  333.54\n",
              "39   1976.248634  334.66\n",
              "40   1976.330601  334.77"
            ]
          },
          "metadata": {
            "tags": []
          },
          "execution_count": 16
        }
      ]
    },
    {
      "cell_type": "code",
      "metadata": {
        "id": "BsPMEXwDDTnD",
        "colab_type": "code",
        "colab": {
          "base_uri": "https://localhost:8080/",
          "height": 136
        },
        "outputId": "3974f3ec-2326-4f1c-dcf8-c39e890d9c47"
      },
      "source": [
        "# normalize the dataset\n",
        "scaler = MinMaxScaler(feature_range=(0, 1))\n",
        "dataset = scaler.fit_transform(dataset)\n",
        "dataset"
      ],
      "execution_count": 17,
      "outputs": [
        {
          "output_type": "execute_result",
          "data": {
            "text/plain": [
              "array([[0.        , 0.0342139 ],\n",
              "       [0.00192871, 0.04713139],\n",
              "       [0.00373299, 0.05620854],\n",
              "       ...,\n",
              "       [0.9961944 , 0.92866287],\n",
              "       [0.99812839, 0.9493774 ],\n",
              "       [1.        , 0.96648435]])"
            ]
          },
          "metadata": {
            "tags": []
          },
          "execution_count": 17
        }
      ]
    },
    {
      "cell_type": "code",
      "metadata": {
        "id": "9-57XpfuFHHD",
        "colab_type": "code",
        "colab": {
          "base_uri": "https://localhost:8080/",
          "height": 34
        },
        "outputId": "13e8de76-2418-4479-bc1c-5dc904b3dcca"
      },
      "source": [
        "# split into train and test sets\n",
        "train_size = int(len(dataset) * 0.67)\n",
        "test_size = len(dataset) - train_size\n",
        "train, test = dataset[0:train_size,:], dataset[train_size:len(dataset),:]\n",
        "print(len(train), len(test))"
      ],
      "execution_count": 18,
      "outputs": [
        {
          "output_type": "stream",
          "text": [
            "353 175\n"
          ],
          "name": "stdout"
        }
      ]
    },
    {
      "cell_type": "code",
      "metadata": {
        "id": "NpzwUNZvFjKX",
        "colab_type": "code",
        "colab": {}
      },
      "source": [
        "# convert an array of values into a dataset matrix\n",
        "def create_dataset(dataset, look_back=1):\n",
        "\tdataX, dataY = [], []\n",
        "\tfor i in range(len(dataset)-look_back-1):\n",
        "\t\ta = dataset[i:(i+look_back), 0]\n",
        "\t\tdataX.append(a)\n",
        "\t\tdataY.append(dataset[i + look_back, 0])\n",
        "\treturn numpy.array(dataX), numpy.array(dataY)"
      ],
      "execution_count": 19,
      "outputs": []
    },
    {
      "cell_type": "code",
      "metadata": {
        "id": "W0pHhZi3GVwu",
        "colab_type": "code",
        "colab": {}
      },
      "source": [
        "# reshape into X=t and Y=t+1\n",
        "look_back = 1\n",
        "trainX, trainY = create_dataset(train, look_back)\n",
        "testX, testY = create_dataset(test, look_back)"
      ],
      "execution_count": 20,
      "outputs": []
    },
    {
      "cell_type": "code",
      "metadata": {
        "id": "Icih8SRfJ76o",
        "colab_type": "code",
        "colab": {}
      },
      "source": [
        "# reshape input to be [samples, time steps, features]\n",
        "trainX = numpy.reshape(trainX, (trainX.shape[0], 1, trainX.shape[1]))\n",
        "testX = numpy.reshape(testX, (testX.shape[0], 1, testX.shape[1]))"
      ],
      "execution_count": 21,
      "outputs": []
    },
    {
      "cell_type": "code",
      "metadata": {
        "id": "Zm2WiheXGugt",
        "colab_type": "code",
        "colab": {
          "base_uri": "https://localhost:8080/",
          "height": 1000
        },
        "outputId": "ab56757e-a224-4956-f55e-6e8eb15df6a0"
      },
      "source": [
        "# create and fit the LSTM network\n",
        "model = Sequential()\n",
        "model.add(LSTM(4, input_shape=(1, look_back)))\n",
        "model.add(Dense(1))\n",
        "model.compile(loss='mean_squared_error', optimizer='adam')\n",
        "model.fit(trainX, trainY, epochs=100, batch_size=1, verbose=2)"
      ],
      "execution_count": 22,
      "outputs": [
        {
          "output_type": "stream",
          "text": [
            "Epoch 1/100\n",
            " - 1s - loss: 0.0543\n",
            "Epoch 2/100\n",
            " - 0s - loss: 0.0162\n",
            "Epoch 3/100\n",
            " - 0s - loss: 0.0083\n",
            "Epoch 4/100\n",
            " - 0s - loss: 0.0027\n",
            "Epoch 5/100\n",
            " - 0s - loss: 4.5297e-04\n",
            "Epoch 6/100\n",
            " - 0s - loss: 6.8523e-05\n",
            "Epoch 7/100\n",
            " - 0s - loss: 4.2833e-05\n",
            "Epoch 8/100\n",
            " - 0s - loss: 3.9517e-05\n",
            "Epoch 9/100\n",
            " - 0s - loss: 3.5981e-05\n",
            "Epoch 10/100\n",
            " - 0s - loss: 3.2999e-05\n",
            "Epoch 11/100\n",
            " - 0s - loss: 2.9528e-05\n",
            "Epoch 12/100\n",
            " - 0s - loss: 2.5922e-05\n",
            "Epoch 13/100\n",
            " - 0s - loss: 2.2789e-05\n",
            "Epoch 14/100\n",
            " - 0s - loss: 1.8695e-05\n",
            "Epoch 15/100\n",
            " - 0s - loss: 1.6029e-05\n",
            "Epoch 16/100\n",
            " - 0s - loss: 1.3064e-05\n",
            "Epoch 17/100\n",
            " - 0s - loss: 1.2324e-05\n",
            "Epoch 18/100\n",
            " - 0s - loss: 1.0284e-05\n",
            "Epoch 19/100\n",
            " - 0s - loss: 9.8463e-06\n",
            "Epoch 20/100\n",
            " - 0s - loss: 9.3342e-06\n",
            "Epoch 21/100\n",
            " - 0s - loss: 9.3148e-06\n",
            "Epoch 22/100\n",
            " - 0s - loss: 9.4794e-06\n",
            "Epoch 23/100\n",
            " - 0s - loss: 1.0335e-05\n",
            "Epoch 24/100\n",
            " - 0s - loss: 9.6138e-06\n",
            "Epoch 25/100\n",
            " - 0s - loss: 1.0804e-05\n",
            "Epoch 26/100\n",
            " - 0s - loss: 9.9740e-06\n",
            "Epoch 27/100\n",
            " - 0s - loss: 1.0516e-05\n",
            "Epoch 28/100\n",
            " - 0s - loss: 9.7715e-06\n",
            "Epoch 29/100\n",
            " - 0s - loss: 8.4868e-06\n",
            "Epoch 30/100\n",
            " - 0s - loss: 8.9528e-06\n",
            "Epoch 31/100\n",
            " - 0s - loss: 9.0267e-06\n",
            "Epoch 32/100\n",
            " - 0s - loss: 9.4847e-06\n",
            "Epoch 33/100\n",
            " - 0s - loss: 9.9296e-06\n",
            "Epoch 34/100\n",
            " - 0s - loss: 9.6474e-06\n",
            "Epoch 35/100\n",
            " - 0s - loss: 8.9945e-06\n",
            "Epoch 36/100\n",
            " - 0s - loss: 9.5515e-06\n",
            "Epoch 37/100\n",
            " - 0s - loss: 8.2321e-06\n",
            "Epoch 38/100\n",
            " - 1s - loss: 8.8691e-06\n",
            "Epoch 39/100\n",
            " - 0s - loss: 8.1334e-06\n",
            "Epoch 40/100\n",
            " - 1s - loss: 8.4098e-06\n",
            "Epoch 41/100\n",
            " - 1s - loss: 1.0512e-05\n",
            "Epoch 42/100\n",
            " - 0s - loss: 8.8846e-06\n",
            "Epoch 43/100\n",
            " - 0s - loss: 8.3587e-06\n",
            "Epoch 44/100\n",
            " - 0s - loss: 9.2511e-06\n",
            "Epoch 45/100\n",
            " - 0s - loss: 8.1388e-06\n",
            "Epoch 46/100\n",
            " - 0s - loss: 7.4745e-06\n",
            "Epoch 47/100\n",
            " - 0s - loss: 8.2093e-06\n",
            "Epoch 48/100\n",
            " - 0s - loss: 8.2705e-06\n",
            "Epoch 49/100\n",
            " - 0s - loss: 8.9451e-06\n",
            "Epoch 50/100\n",
            " - 0s - loss: 8.1004e-06\n",
            "Epoch 51/100\n",
            " - 0s - loss: 8.9064e-06\n",
            "Epoch 52/100\n",
            " - 0s - loss: 7.6452e-06\n",
            "Epoch 53/100\n",
            " - 0s - loss: 7.6065e-06\n",
            "Epoch 54/100\n",
            " - 0s - loss: 6.6990e-06\n",
            "Epoch 55/100\n",
            " - 0s - loss: 8.1794e-06\n",
            "Epoch 56/100\n",
            " - 0s - loss: 7.8453e-06\n",
            "Epoch 57/100\n",
            " - 0s - loss: 6.4996e-06\n",
            "Epoch 58/100\n",
            " - 0s - loss: 6.6862e-06\n",
            "Epoch 59/100\n",
            " - 0s - loss: 6.9033e-06\n",
            "Epoch 60/100\n",
            " - 0s - loss: 8.2955e-06\n",
            "Epoch 61/100\n",
            " - 0s - loss: 6.4510e-06\n",
            "Epoch 62/100\n",
            " - 0s - loss: 7.0208e-06\n",
            "Epoch 63/100\n",
            " - 0s - loss: 7.6792e-06\n",
            "Epoch 64/100\n",
            " - 0s - loss: 8.1708e-06\n",
            "Epoch 65/100\n",
            " - 0s - loss: 5.9782e-06\n",
            "Epoch 66/100\n",
            " - 0s - loss: 6.9425e-06\n",
            "Epoch 67/100\n",
            " - 0s - loss: 7.0952e-06\n",
            "Epoch 68/100\n",
            " - 0s - loss: 7.2553e-06\n",
            "Epoch 69/100\n",
            " - 0s - loss: 6.6712e-06\n",
            "Epoch 70/100\n",
            " - 0s - loss: 6.9230e-06\n",
            "Epoch 71/100\n",
            " - 0s - loss: 6.9915e-06\n",
            "Epoch 72/100\n",
            " - 0s - loss: 7.1656e-06\n",
            "Epoch 73/100\n",
            " - 0s - loss: 7.3208e-06\n",
            "Epoch 74/100\n",
            " - 0s - loss: 6.2951e-06\n",
            "Epoch 75/100\n",
            " - 0s - loss: 6.0280e-06\n",
            "Epoch 76/100\n",
            " - 0s - loss: 5.9045e-06\n",
            "Epoch 77/100\n",
            " - 0s - loss: 7.7128e-06\n",
            "Epoch 78/100\n",
            " - 0s - loss: 5.7816e-06\n",
            "Epoch 79/100\n",
            " - 0s - loss: 6.4627e-06\n",
            "Epoch 80/100\n",
            " - 0s - loss: 6.3689e-06\n",
            "Epoch 81/100\n",
            " - 0s - loss: 5.7373e-06\n",
            "Epoch 82/100\n",
            " - 0s - loss: 6.2297e-06\n",
            "Epoch 83/100\n",
            " - 0s - loss: 7.1628e-06\n",
            "Epoch 84/100\n",
            " - 0s - loss: 6.1221e-06\n",
            "Epoch 85/100\n",
            " - 0s - loss: 5.4049e-06\n",
            "Epoch 86/100\n",
            " - 0s - loss: 4.8955e-06\n",
            "Epoch 87/100\n",
            " - 0s - loss: 6.7435e-06\n",
            "Epoch 88/100\n",
            " - 0s - loss: 7.2379e-06\n",
            "Epoch 89/100\n",
            " - 0s - loss: 6.7723e-06\n",
            "Epoch 90/100\n",
            " - 0s - loss: 5.8254e-06\n",
            "Epoch 91/100\n",
            " - 0s - loss: 6.4021e-06\n",
            "Epoch 92/100\n",
            " - 0s - loss: 6.5618e-06\n",
            "Epoch 93/100\n",
            " - 0s - loss: 5.4443e-06\n",
            "Epoch 94/100\n",
            " - 0s - loss: 8.2890e-06\n",
            "Epoch 95/100\n",
            " - 0s - loss: 5.9879e-06\n",
            "Epoch 96/100\n",
            " - 0s - loss: 6.1727e-06\n",
            "Epoch 97/100\n",
            " - 0s - loss: 5.7813e-06\n",
            "Epoch 98/100\n",
            " - 0s - loss: 4.5612e-06\n",
            "Epoch 99/100\n",
            " - 0s - loss: 5.4838e-06\n",
            "Epoch 100/100\n",
            " - 0s - loss: 5.9339e-06\n"
          ],
          "name": "stdout"
        },
        {
          "output_type": "execute_result",
          "data": {
            "text/plain": [
              "<keras.callbacks.callbacks.History at 0x7f67c2a5cd68>"
            ]
          },
          "metadata": {
            "tags": []
          },
          "execution_count": 22
        }
      ]
    },
    {
      "cell_type": "code",
      "metadata": {
        "id": "X9zCjKSnLkYD",
        "colab_type": "code",
        "colab": {
          "base_uri": "https://localhost:8080/",
          "height": 351
        },
        "outputId": "7d6a4e93-6ada-4a6f-9844-3f494b76fda4"
      },
      "source": [
        "# make predictions\n",
        "trainPredict = model.predict(trainX)\n",
        "testPredict = model.predict(testX)\n",
        "# invert predictions\n",
        "trainPredict = scaler.inverse_transform(trainPredict)\n",
        "trainY = scaler.inverse_transform([trainY])\n",
        "testPredict = scaler.inverse_transform(testPredict)\n",
        "testY = scaler.inverse_transform([testY])\n",
        "# calculate root mean squared error\n",
        "trainScore = math.sqrt(mean_squared_error(trainY[0], trainPredict[:,0]))\n",
        "print('Train Score: %.2f RMSE' % (trainScore))\n",
        "testScore = math.sqrt(mean_squared_error(testY[0], testPredict[:,0]))\n",
        "print('Test Score: %.2f RMSE' % (testScore))"
      ],
      "execution_count": 23,
      "outputs": [
        {
          "output_type": "error",
          "ename": "ValueError",
          "evalue": "ignored",
          "traceback": [
            "\u001b[0;31m---------------------------------------------------------------------------\u001b[0m",
            "\u001b[0;31mValueError\u001b[0m                                Traceback (most recent call last)",
            "\u001b[0;32m<ipython-input-23-bc8a19992d82>\u001b[0m in \u001b[0;36m<module>\u001b[0;34m()\u001b[0m\n\u001b[1;32m      3\u001b[0m \u001b[0mtestPredict\u001b[0m \u001b[0;34m=\u001b[0m \u001b[0mmodel\u001b[0m\u001b[0;34m.\u001b[0m\u001b[0mpredict\u001b[0m\u001b[0;34m(\u001b[0m\u001b[0mtestX\u001b[0m\u001b[0;34m)\u001b[0m\u001b[0;34m\u001b[0m\u001b[0;34m\u001b[0m\u001b[0m\n\u001b[1;32m      4\u001b[0m \u001b[0;31m# invert predictions\u001b[0m\u001b[0;34m\u001b[0m\u001b[0;34m\u001b[0m\u001b[0;34m\u001b[0m\u001b[0m\n\u001b[0;32m----> 5\u001b[0;31m \u001b[0mtrainPredict\u001b[0m \u001b[0;34m=\u001b[0m \u001b[0mscaler\u001b[0m\u001b[0;34m.\u001b[0m\u001b[0minverse_transform\u001b[0m\u001b[0;34m(\u001b[0m\u001b[0mtrainPredict\u001b[0m\u001b[0;34m)\u001b[0m\u001b[0;34m\u001b[0m\u001b[0;34m\u001b[0m\u001b[0m\n\u001b[0m\u001b[1;32m      6\u001b[0m \u001b[0mtrainY\u001b[0m \u001b[0;34m=\u001b[0m \u001b[0mscaler\u001b[0m\u001b[0;34m.\u001b[0m\u001b[0minverse_transform\u001b[0m\u001b[0;34m(\u001b[0m\u001b[0;34m[\u001b[0m\u001b[0mtrainY\u001b[0m\u001b[0;34m]\u001b[0m\u001b[0;34m)\u001b[0m\u001b[0;34m\u001b[0m\u001b[0;34m\u001b[0m\u001b[0m\n\u001b[1;32m      7\u001b[0m \u001b[0mtestPredict\u001b[0m \u001b[0;34m=\u001b[0m \u001b[0mscaler\u001b[0m\u001b[0;34m.\u001b[0m\u001b[0minverse_transform\u001b[0m\u001b[0;34m(\u001b[0m\u001b[0mtestPredict\u001b[0m\u001b[0;34m)\u001b[0m\u001b[0;34m\u001b[0m\u001b[0;34m\u001b[0m\u001b[0m\n",
            "\u001b[0;32m/usr/local/lib/python3.6/dist-packages/sklearn/preprocessing/_data.py\u001b[0m in \u001b[0;36minverse_transform\u001b[0;34m(self, X)\u001b[0m\n\u001b[1;32m    434\u001b[0m                         force_all_finite=\"allow-nan\")\n\u001b[1;32m    435\u001b[0m \u001b[0;34m\u001b[0m\u001b[0m\n\u001b[0;32m--> 436\u001b[0;31m         \u001b[0mX\u001b[0m \u001b[0;34m-=\u001b[0m \u001b[0mself\u001b[0m\u001b[0;34m.\u001b[0m\u001b[0mmin_\u001b[0m\u001b[0;34m\u001b[0m\u001b[0;34m\u001b[0m\u001b[0m\n\u001b[0m\u001b[1;32m    437\u001b[0m         \u001b[0mX\u001b[0m \u001b[0;34m/=\u001b[0m \u001b[0mself\u001b[0m\u001b[0;34m.\u001b[0m\u001b[0mscale_\u001b[0m\u001b[0;34m\u001b[0m\u001b[0;34m\u001b[0m\u001b[0m\n\u001b[1;32m    438\u001b[0m         \u001b[0;32mreturn\u001b[0m \u001b[0mX\u001b[0m\u001b[0;34m\u001b[0m\u001b[0;34m\u001b[0m\u001b[0m\n",
            "\u001b[0;31mValueError\u001b[0m: non-broadcastable output operand with shape (351,1) doesn't match the broadcast shape (351,2)"
          ]
        }
      ]
    },
    {
      "cell_type": "markdown",
      "metadata": {
        "id": "hTW4okPDOoo2",
        "colab_type": "text"
      },
      "source": [
        "# 2. LSTM - pytorch\n",
        "\n",
        "Following this example: \n",
        "\n",
        "https://github.com/spdin/time-series-prediction-lstm-pytorch/blob/master/Time_Series_Prediction_with_LSTM_Using_PyTorch.ipynb"
      ]
    },
    {
      "cell_type": "code",
      "metadata": {
        "id": "xKyRGUXaOraR",
        "colab_type": "code",
        "colab": {}
      },
      "source": [
        "import torch\n",
        "import torch.nn as nn\n",
        "import matplotlib.pyplot as plt\n",
        "from torch.autograd import Variable\n",
        "from sklearn.preprocessing import MinMaxScaler"
      ],
      "execution_count": 24,
      "outputs": []
    },
    {
      "cell_type": "code",
      "metadata": {
        "id": "J0TxrA1T76z5",
        "colab_type": "code",
        "colab": {
          "base_uri": "https://localhost:8080/",
          "height": 204
        },
        "outputId": "9deb0bcd-3b72-4e4b-877c-615797cd482e"
      },
      "source": [
        "# Same data as from above:\n",
        "df.head(5)"
      ],
      "execution_count": 25,
      "outputs": [
        {
          "output_type": "execute_result",
          "data": {
            "text/html": [
              "<div>\n",
              "<style scoped>\n",
              "    .dataframe tbody tr th:only-of-type {\n",
              "        vertical-align: middle;\n",
              "    }\n",
              "\n",
              "    .dataframe tbody tr th {\n",
              "        vertical-align: top;\n",
              "    }\n",
              "\n",
              "    .dataframe thead th {\n",
              "        text-align: right;\n",
              "    }\n",
              "</style>\n",
              "<table border=\"1\" class=\"dataframe\">\n",
              "  <thead>\n",
              "    <tr style=\"text-align: right;\">\n",
              "      <th></th>\n",
              "      <th>site_code</th>\n",
              "      <th>year</th>\n",
              "      <th>month</th>\n",
              "      <th>day</th>\n",
              "      <th>hour</th>\n",
              "      <th>minute</th>\n",
              "      <th>second</th>\n",
              "      <th>time_decimal</th>\n",
              "      <th>value</th>\n",
              "      <th>value_std_dev</th>\n",
              "      <th>nvalue</th>\n",
              "      <th>latitude</th>\n",
              "      <th>longitude</th>\n",
              "      <th>altitude</th>\n",
              "      <th>elevation</th>\n",
              "      <th>intake_height</th>\n",
              "      <th>qcflag</th>\n",
              "    </tr>\n",
              "  </thead>\n",
              "  <tbody>\n",
              "    <tr>\n",
              "      <th>0</th>\n",
              "      <td>MLO</td>\n",
              "      <td>1973</td>\n",
              "      <td>1</td>\n",
              "      <td>1</td>\n",
              "      <td>0</td>\n",
              "      <td>0</td>\n",
              "      <td>0</td>\n",
              "      <td>1973.000000</td>\n",
              "      <td>-999.99</td>\n",
              "      <td>-99.99</td>\n",
              "      <td>0</td>\n",
              "      <td>19.536</td>\n",
              "      <td>-155.576</td>\n",
              "      <td>3437.0</td>\n",
              "      <td>3397.0</td>\n",
              "      <td>40.0</td>\n",
              "      <td>*..</td>\n",
              "    </tr>\n",
              "    <tr>\n",
              "      <th>1</th>\n",
              "      <td>MLO</td>\n",
              "      <td>1973</td>\n",
              "      <td>2</td>\n",
              "      <td>1</td>\n",
              "      <td>0</td>\n",
              "      <td>0</td>\n",
              "      <td>0</td>\n",
              "      <td>1973.084932</td>\n",
              "      <td>-999.99</td>\n",
              "      <td>-99.99</td>\n",
              "      <td>0</td>\n",
              "      <td>19.536</td>\n",
              "      <td>-155.576</td>\n",
              "      <td>3437.0</td>\n",
              "      <td>3397.0</td>\n",
              "      <td>40.0</td>\n",
              "      <td>*..</td>\n",
              "    </tr>\n",
              "    <tr>\n",
              "      <th>2</th>\n",
              "      <td>MLO</td>\n",
              "      <td>1973</td>\n",
              "      <td>3</td>\n",
              "      <td>1</td>\n",
              "      <td>0</td>\n",
              "      <td>0</td>\n",
              "      <td>0</td>\n",
              "      <td>1973.161644</td>\n",
              "      <td>-999.99</td>\n",
              "      <td>-99.99</td>\n",
              "      <td>0</td>\n",
              "      <td>19.536</td>\n",
              "      <td>-155.576</td>\n",
              "      <td>3437.0</td>\n",
              "      <td>3397.0</td>\n",
              "      <td>40.0</td>\n",
              "      <td>*..</td>\n",
              "    </tr>\n",
              "    <tr>\n",
              "      <th>3</th>\n",
              "      <td>MLO</td>\n",
              "      <td>1973</td>\n",
              "      <td>4</td>\n",
              "      <td>1</td>\n",
              "      <td>0</td>\n",
              "      <td>0</td>\n",
              "      <td>0</td>\n",
              "      <td>1973.246575</td>\n",
              "      <td>-999.99</td>\n",
              "      <td>-99.99</td>\n",
              "      <td>0</td>\n",
              "      <td>19.536</td>\n",
              "      <td>-155.576</td>\n",
              "      <td>3437.0</td>\n",
              "      <td>3397.0</td>\n",
              "      <td>40.0</td>\n",
              "      <td>*..</td>\n",
              "    </tr>\n",
              "    <tr>\n",
              "      <th>4</th>\n",
              "      <td>MLO</td>\n",
              "      <td>1973</td>\n",
              "      <td>5</td>\n",
              "      <td>1</td>\n",
              "      <td>0</td>\n",
              "      <td>0</td>\n",
              "      <td>0</td>\n",
              "      <td>1973.328767</td>\n",
              "      <td>-999.99</td>\n",
              "      <td>-99.99</td>\n",
              "      <td>0</td>\n",
              "      <td>19.536</td>\n",
              "      <td>-155.576</td>\n",
              "      <td>3437.0</td>\n",
              "      <td>3397.0</td>\n",
              "      <td>40.0</td>\n",
              "      <td>*..</td>\n",
              "    </tr>\n",
              "  </tbody>\n",
              "</table>\n",
              "</div>"
            ],
            "text/plain": [
              "  site_code  year  month  day  ...  altitude  elevation  intake_height  qcflag\n",
              "0       MLO  1973      1    1  ...    3437.0     3397.0           40.0     *..\n",
              "1       MLO  1973      2    1  ...    3437.0     3397.0           40.0     *..\n",
              "2       MLO  1973      3    1  ...    3437.0     3397.0           40.0     *..\n",
              "3       MLO  1973      4    1  ...    3437.0     3397.0           40.0     *..\n",
              "4       MLO  1973      5    1  ...    3437.0     3397.0           40.0     *..\n",
              "\n",
              "[5 rows x 17 columns]"
            ]
          },
          "metadata": {
            "tags": []
          },
          "execution_count": 25
        }
      ]
    },
    {
      "cell_type": "code",
      "metadata": {
        "id": "hJmZo3Tk874o",
        "colab_type": "code",
        "colab": {
          "base_uri": "https://localhost:8080/",
          "height": 282
        },
        "outputId": "51b3baf5-f4f0-4ff6-fa95-1a83ce8d4278"
      },
      "source": [
        "# Visualization of training data (kind of linear, but not really)\n",
        "plt.plot(dataset, label = \"year\")\n",
        "plt.show"
      ],
      "execution_count": 32,
      "outputs": [
        {
          "output_type": "execute_result",
          "data": {
            "text/plain": [
              "<function matplotlib.pyplot.show>"
            ]
          },
          "metadata": {
            "tags": []
          },
          "execution_count": 32
        },
        {
          "output_type": "display_data",
          "data": {
            "image/png": "[encoded data removed]",
            "text/plain": [
              "<Figure size 432x288 with 1 Axes>"
            ]
          },
          "metadata": {
            "tags": [],
            "needs_background": "light"
          }
        }
      ]
    },
    {
      "cell_type": "code",
      "metadata": {
        "id": "08R4SeKq9tiR",
        "colab_type": "code",
        "colab": {
          "base_uri": "https://localhost:8080/",
          "height": 282
        },
        "outputId": "4b0d0e2b-5f23-4a4c-b6dd-9627abd9c39f"
      },
      "source": [
        "# Visualization of test data (kind of linear, but not really)\n",
        "plt.plot(test, label = \"year\")\n",
        "plt.show"
      ],
      "execution_count": 31,
      "outputs": [
        {
          "output_type": "execute_result",
          "data": {
            "text/plain": [
              "<function matplotlib.pyplot.show>"
            ]
          },
          "metadata": {
            "tags": []
          },
          "execution_count": 31
        },
        {
          "output_type": "display_data",
          "data": {
            "image/png": "[encoded data removed]",
            "text/plain": [
              "<Figure size 432x288 with 1 Axes>"
            ]
          },
          "metadata": {
            "tags": [],
            "needs_background": "light"
          }
        }
      ]
    }
  ]
}